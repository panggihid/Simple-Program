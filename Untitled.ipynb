{
 "cells": [
  {
   "cell_type": "code",
   "execution_count": 6,
   "metadata": {},
   "outputs": [
    {
     "name": "stdout",
     "output_type": "stream",
     "text": [
      "\n",
      "Nama : p\n",
      "Nim : 180\n",
      "\n",
      "Nilai Tugas: 70\n",
      "Nilai UTS: 70\n",
      "Nilai UAS: 70\n",
      "\n",
      "Nilai Akhir  = 70\n",
      "Nilai Indeks = B\n"
     ]
    }
   ],
   "source": [
    "nama = input(\"\\nNama : \")\n",
    "nim = input(\"Nim : \")\n",
    "tugas = float(input(\"\\nNilai Tugas: \"))\n",
    "uts = float(input(\"Nilai UTS: \"))\n",
    "uas = float(input(\"Nilai UAS: \"))\n",
    "\n",
    "na =  (0.30 * tugas) + (0.30 * uts) +  (0.40 * uas)\n",
    "if na > 80:\n",
    "    nilai = 'A'\n",
    "elif na >= 70:\n",
    "    nilai = 'B'\n",
    "elif na >= 55:\n",
    "    nilai = 'C'\n",
    "elif na >= 40:\n",
    "    nilai = 'D'\n",
    "else:\n",
    "    nilai = 'E'\n",
    "\n",
    "print(\"\\nNilai Akhir  = %d\" % na)\n",
    "print(\"Nilai Indeks = %c\" % nilai)"
   ]
  },
  {
   "cell_type": "code",
   "execution_count": 3,
   "metadata": {},
   "outputs": [
    {
     "name": "stdout",
     "output_type": "stream",
     "text": [
      "Total belanja Rp. :  250000\n",
      "diskon 15%\n",
      "Total belanja, Rp.  250000\n",
      "Diskon harga, Rp.  37500.0\n",
      "Anda cukup bayar, Rp.  212500.0\n"
     ]
    }
   ],
   "source": [
    "belanja = int(input('Total belanja Rp. :  '))\n",
    "\n",
    "if belanja > 200000:\n",
    "    print('diskon 15%')\n",
    "\n",
    "    diskon = belanja * 15/100\n",
    "    bayar = belanja - diskon\n",
    "\n",
    "    print('Total belanja, Rp. ', belanja)\n",
    "    print('Diskon harga, Rp. ', diskon)\n",
    "    print('Anda cukup bayar, Rp. ', bayar)"
   ]
  },
  {
   "cell_type": "code",
   "execution_count": 1,
   "metadata": {},
   "outputs": [
    {
     "name": "stdout",
     "output_type": "stream",
     "text": [
      "Berat Badan Anda : 65\n",
      "Tinggi Badan Anda : 175\n",
      "Your BMI is: 0.0021224489795918368 and you are: Kekurangan Berat Badan\n"
     ]
    }
   ],
   "source": [
    "berat = float(input('Berat Badan Anda : '))\n",
    "tinggi = float(input('Tinggi Badan Anda : '))\n",
    "\n",
    "bmi = berat/(tinggi**2) \n",
    "\n",
    "print(\"Your BMI is: {0} and you are: \".format(bmi), end='')\n",
    "\n",
    "#conditions\n",
    "if ( bmi < 18.5):\n",
    "   print(\"Kekurangan Berat Badan\")\n",
    "\n",
    "elif ( bmi >= 18.5 and bmi < 22.9):\n",
    "   print(\"Berat Badan Normal\")\n",
    "\n",
    "elif ( bmi >= 23 and bmi < 24.9):\n",
    "   print(\"Kelebihan Berat Badan\")\n",
    "\n",
    "elif ( bmi >=25):\n",
    "   print(\"Obesitas\")\n",
    "\n"
   ]
  },
  {
   "cell_type": "code",
   "execution_count": null,
   "metadata": {},
   "outputs": [],
   "source": []
  }
 ],
 "metadata": {
  "kernelspec": {
   "display_name": "Python 3",
   "language": "python",
   "name": "python3"
  },
  "language_info": {
   "codemirror_mode": {
    "name": "ipython",
    "version": 3
   },
   "file_extension": ".py",
   "mimetype": "text/x-python",
   "name": "python",
   "nbconvert_exporter": "python",
   "pygments_lexer": "ipython3",
   "version": "3.8.1"
  }
 },
 "nbformat": 4,
 "nbformat_minor": 4
}
